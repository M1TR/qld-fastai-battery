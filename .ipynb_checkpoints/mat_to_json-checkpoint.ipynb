{
 "cells": [
  {
   "cell_type": "markdown",
   "metadata": {},
   "source": [
    "Dataset source: https://ti.arc.nasa.gov/tech/dash/groups/pcoe/prognostic-data-repository/#battery\n",
    "\n",
    "File: Battery Dataset 1 (https://ti.arc.nasa.gov/m/project/prognostic-repository/BatteryAgingARC-FY08Q4.zip)\n",
    "\n",
    "Code courtesy: https://github.com/adrienBizeray/battery_skunkworks"
   ]
  },
  {
   "cell_type": "code",
   "execution_count": 1,
   "metadata": {},
   "outputs": [],
   "source": [
    "from scipy.io import loadmat, whosmat\n",
    "import numpy as np\n",
    "import matplotlib.pyplot as plt\n",
    "import datetime\n",
    "import json\n",
    "import os\n",
    "\n",
    "%matplotlib inline"
   ]
  },
  {
   "cell_type": "code",
   "execution_count": 2,
   "metadata": {},
   "outputs": [],
   "source": [
    "def build_dictionaries(mess):\n",
    "\n",
    "    discharge, charge, impedance = {}, {}, {}\n",
    "\n",
    "    for i, element in enumerate(mess):\n",
    "\n",
    "        step = element[0][0]\n",
    "\n",
    "        if step == 'discharge':\n",
    "            discharge[str(i)] = {}\n",
    "            discharge[str(i)][\"amb_temp\"] = str(element[1][0][0])\n",
    "            year = int(element[2][0][0])\n",
    "            month = int(element[2][0][1])\n",
    "            day = int(element[2][0][2])\n",
    "            hour = int(element[2][0][3])\n",
    "            minute = int(element[2][0][4])\n",
    "            second = int(element[2][0][5])\n",
    "            millisecond = int((second % 1)*1000)\n",
    "            date_time = datetime.datetime(year, month, day, hour, minute, second, millisecond)        \n",
    "\n",
    "            discharge[str(i)][\"date_time\"] = date_time.strftime(\"%d %b %Y, %H:%M:%S\")\n",
    "\n",
    "            data = element[3]\n",
    "\n",
    "            discharge[str(i)][\"voltage_battery\"] = data[0][0][0][0].tolist()\n",
    "            discharge[str(i)][\"current_battery\"] = data[0][0][1][0].tolist()\n",
    "            discharge[str(i)][\"temp_battery\"] = data[0][0][2][0].tolist()\n",
    "            discharge[str(i)][\"current_load\"] = data[0][0][3][0].tolist()\n",
    "            discharge[str(i)][\"voltage_load\"] = data[0][0][4][0].tolist()\n",
    "            discharge[str(i)][\"time\"] = data[0][0][5][0].tolist()\n",
    "\n",
    "        if step == 'charge':\n",
    "            charge[str(i)] = {}\n",
    "            charge[str(i)][\"amb_temp\"] = str(element[1][0][0])\n",
    "            year = int(element[2][0][0])\n",
    "            month = int(element[2][0][1])\n",
    "            day = int(element[2][0][2])\n",
    "            hour = int(element[2][0][3])\n",
    "            minute = int(element[2][0][4])\n",
    "            second = int(element[2][0][5])\n",
    "            millisecond = int((second % 1)*1000)\n",
    "            date_time = datetime.datetime(year, month, day, hour, minute, second, millisecond)        \n",
    "\n",
    "            charge[str(i)][\"date_time\"] = date_time.strftime(\"%d %b %Y, %H:%M:%S\")\n",
    "\n",
    "            data = element[3]\n",
    "\n",
    "            charge[str(i)][\"voltage_battery\"] = data[0][0][0][0].tolist()\n",
    "            charge[str(i)][\"current_battery\"] = data[0][0][1][0].tolist()\n",
    "            charge[str(i)][\"temp_battery\"] = data[0][0][2][0].tolist()\n",
    "            charge[str(i)][\"current_load\"] = data[0][0][3][0].tolist()\n",
    "            charge[str(i)][\"voltage_load\"] = data[0][0][4][0].tolist()\n",
    "            charge[str(i)][\"time\"] = data[0][0][5][0].tolist()\n",
    "\n",
    "        if step == 'impedance':\n",
    "            impedance[str(i)] = {}\n",
    "            impedance[str(i)][\"amb_temp\"] = str(element[1][0][0])\n",
    "            year = int(element[2][0][0])\n",
    "            month = int(element[2][0][1])\n",
    "            day = int(element[2][0][2])\n",
    "            hour = int(element[2][0][3])\n",
    "            minute = int(element[2][0][4])\n",
    "            second = int(element[2][0][5])\n",
    "            millisecond = int((second % 1)*1000)\n",
    "            date_time = datetime.datetime(year, month, day, hour, minute, second, millisecond)        \n",
    "\n",
    "            impedance[str(i)][\"date_time\"] = date_time.strftime(\"%d %b %Y, %H:%M:%S\")\n",
    "\n",
    "            data = element[3]\n",
    "\n",
    "            impedance[str(i)][\"sense_current\"] = {}\n",
    "            impedance[str(i)][\"battery_current\"] = {}\n",
    "            impedance[str(i)][\"current_ratio\"] = {}\n",
    "            impedance[str(i)][\"battery_impedance\"] = {}\n",
    "            impedance[str(i)][\"rectified_impedance\"] = {}\n",
    "\n",
    "            impedance[str(i)][\"sense_current\"][\"real\"] = np.real(data[0][0][0][0]).tolist()\n",
    "            impedance[str(i)][\"sense_current\"][\"imag\"] = np.imag(data[0][0][0][0]).tolist()\n",
    "\n",
    "            impedance[str(i)][\"battery_current\"][\"real\"] = np.real(data[0][0][1][0]).tolist()\n",
    "            impedance[str(i)][\"battery_current\"][\"imag\"] = np.imag(data[0][0][1][0]).tolist()\n",
    "\n",
    "            impedance[str(i)][\"current_ratio\"][\"real\"] = np.real(data[0][0][2][0]).tolist()\n",
    "            impedance[str(i)][\"current_ratio\"][\"imag\"] = np.imag(data[0][0][2][0]).tolist()\n",
    "\n",
    "            impedance[str(i)][\"battery_impedance\"][\"real\"] = np.real(data[0][0][3]).tolist()\n",
    "            impedance[str(i)][\"battery_impedance\"][\"imag\"] = np.imag(data[0][0][3]).tolist()\n",
    "\n",
    "            impedance[str(i)][\"rectified_impedance\"][\"real\"] = np.real(data[0][0][4]).tolist()\n",
    "            impedance[str(i)][\"rectified_impedance\"][\"imag\"] = np.imag(data[0][0][4]).tolist()\n",
    "\n",
    "            impedance[str(i)][\"re\"] = float(data[0][0][5][0][0])\n",
    "            impedance[str(i)][\"rct\"] = float(data[0][0][6][0][0])\n",
    "            \n",
    "    return discharge, charge, impedance"
   ]
  },
  {
   "cell_type": "code",
   "execution_count": 3,
   "metadata": {},
   "outputs": [],
   "source": [
    "def save_json(dictionary, name):\n",
    "    with open(name + '.json', 'w') as f:\n",
    "        json.dump(dictionary, f, indent=4)"
   ]
  },
  {
   "cell_type": "code",
   "execution_count": null,
   "metadata": {},
   "outputs": [
    {
     "name": "stdout",
     "output_type": "stream",
     "text": [
      "Unpacking B0007.mat"
     ]
    }
   ],
   "source": [
    "folder = '.'\n",
    "filenames = [f for f in os.listdir(folder) if f.endswith('.mat')]\n",
    "\n",
    "for filename in filenames:\n",
    "    name = filename.split('.mat')[0]\n",
    "    print('Unpacking ' + name + '.mat', end='')\n",
    "    struct = loadmat(folder + '/' + filename)\n",
    "    mess = struct[name][0][0][0][0]\n",
    "    \n",
    "    discharge, charge, impedance = build_dictionaries(mess)\n",
    "    \n",
    "    save_json(discharge, name + '_discharge')\n",
    "    save_json(charge, name + '_charge')    \n",
    "    save_json(impedance, name + '_impedance')\n",
    "    print(' ... Done!')\n"
   ]
  },
  {
   "cell_type": "code",
   "execution_count": null,
   "metadata": {},
   "outputs": [],
   "source": [
    "%ls -la"
   ]
  },
  {
   "cell_type": "code",
   "execution_count": null,
   "metadata": {},
   "outputs": [],
   "source": [
    "with open('./B0005_impedance.json') as f:    \n",
    "    impedance_data = json.load(f)\n",
    "    \n",
    "plt.figure(figsize=(20, 8), dpi=100)\n",
    "\n",
    "x, y = [], []\n",
    "\n",
    "for cycle in impedance_data.keys():\n",
    "    x.append(int(cycle))\n",
    "    y.append(impedance_data[cycle][\"rct\"])\n",
    "\n",
    "plt.plot(x, y, '.:', label=cycle)\n",
    "plt.ylabel('Charge transfer resistance')\n",
    "plt.xlabel('Cycle number')\n",
    "# plt.legend()\n",
    "\n",
    "plt.show()"
   ]
  },
  {
   "cell_type": "code",
   "execution_count": null,
   "metadata": {},
   "outputs": [],
   "source": [
    "with open('./B0005_discharge.json') as f:    \n",
    "    discharge_data = json.load(f)\n",
    "\n",
    "plt.figure(figsize=(20, 8), dpi=100)\n",
    "# ax = plt.axes()\n",
    "\n",
    "for cycle in discharge_data.keys():\n",
    "    plt.plot(discharge_data[cycle][\"time\"], discharge_data[cycle][\"voltage_battery\"], '-', label=cycle)\n",
    "\n",
    "plt.ylabel('Voltage')\n",
    "plt.xlabel('Time (s)')\n",
    "# plt.legend()\n",
    "\n",
    "plt.show()"
   ]
  }
 ],
 "metadata": {
  "kernelspec": {
   "display_name": "Python 3",
   "language": "python",
   "name": "python3"
  },
  "language_info": {
   "codemirror_mode": {
    "name": "ipython",
    "version": 3
   },
   "file_extension": ".py",
   "mimetype": "text/x-python",
   "name": "python",
   "nbconvert_exporter": "python",
   "pygments_lexer": "ipython3",
   "version": "3.8.6"
  }
 },
 "nbformat": 4,
 "nbformat_minor": 5
}
